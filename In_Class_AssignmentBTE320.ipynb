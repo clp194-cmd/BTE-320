{
  "nbformat": 4,
  "nbformat_minor": 0,
  "metadata": {
    "colab": {
      "provenance": [],
      "authorship_tag": "ABX9TyPMGMOYZtkwIcvuXoa+cf3W",
      "include_colab_link": true
    },
    "kernelspec": {
      "name": "python3",
      "display_name": "Python 3"
    },
    "language_info": {
      "name": "python"
    }
  },
  "cells": [
    {
      "cell_type": "markdown",
      "metadata": {
        "id": "view-in-github",
        "colab_type": "text"
      },
      "source": [
        "<a href=\"https://colab.research.google.com/github/clp194-cmd/BTE-320/blob/main/In_Class_AssignmentBTE320.ipynb\" target=\"_parent\"><img src=\"https://colab.research.google.com/assets/colab-badge.svg\" alt=\"Open In Colab\"/></a>"
      ]
    },
    {
      "cell_type": "code",
      "execution_count": 19,
      "metadata": {
        "colab": {
          "base_uri": "https://localhost:8080/"
        },
        "id": "GweuTjot-fGU",
        "outputId": "e8fab119-f6b4-4829-eb5b-2ca6f751173d"
      },
      "outputs": [
        {
          "output_type": "stream",
          "name": "stdout",
          "text": [
            "Enter Sales ($):12000\n",
            "Enter Cost of Goods Sold(%):40\n",
            "Enter Tax Rate (%):30\n",
            "Cost of Goods Sold: $4800.0\n",
            "Gross Profit: $ 7200.0\n",
            "Taxes: $2160.0\n",
            "Net Income: $5040.0\n"
          ]
        }
      ],
      "source": [
        "#Inputs: sales($) and cost of goods pct (%)\n",
        "sales = input('Enter Sales ($):')\n",
        "#bc input only casts strings, change to cast as float\n",
        "sales = float(sales)\n",
        "\n",
        "cogs_pct = input('Enter Cost of Goods Sold(%):')\n",
        "#bc input only casts strings, change to cast as float\n",
        "cogs_pct = float (cogs_pct)\n",
        "\n",
        "taxrate = input('Enter Tax Rate (%):')\n",
        "#bc input only casts strings, change to cast as float\n",
        "taxrate = float (taxrate)\n",
        "\n",
        "#Processes: claculate cost of goods sold and gross profit\n",
        "# nake sure to assign each to a variable\n",
        "cogs = sales * (cogs_pct / 100)\n",
        "GrossProfit = sales - cogs\n",
        "taxes = GrossProfit * (taxrate/100)\n",
        "netincome = GrossProfit - taxes\n",
        "\n",
        "#Output: display cost of goods sold and gross profit\n",
        "print(f\"Cost of Goods Sold: ${cogs}\")\n",
        "print(f\"Gross Profit: $ {GrossProfit}\")\n",
        "print(f\"Taxes: ${taxes}\")\n",
        "print(f'Net Income: ${netincome}')\n"
      ]
    }
  ]
}