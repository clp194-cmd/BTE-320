{
  "nbformat": 4,
  "nbformat_minor": 0,
  "metadata": {
    "colab": {
      "provenance": [],
      "authorship_tag": "ABX9TyOqIiJYc5wQI0Ci65thYCNe",
      "include_colab_link": true
    },
    "kernelspec": {
      "name": "python3",
      "display_name": "Python 3"
    },
    "language_info": {
      "name": "python"
    }
  },
  "cells": [
    {
      "cell_type": "markdown",
      "metadata": {
        "id": "view-in-github",
        "colab_type": "text"
      },
      "source": [
        "<a href=\"https://colab.research.google.com/github/clp194-cmd/BTE-320/blob/main/In_Class_Assignment.ipynb\" target=\"_parent\"><img src=\"https://colab.research.google.com/assets/colab-badge.svg\" alt=\"Open In Colab\"/></a>"
      ]
    },
    {
      "cell_type": "code",
      "execution_count": null,
      "metadata": {
        "colab": {
          "base_uri": "https://localhost:8080/"
        },
        "id": "GweuTjot-fGU",
        "outputId": "ebaf73e2-795f-4372-f655-238700e64060"
      },
      "outputs": [
        {
          "output_type": "stream",
          "name": "stdout",
          "text": [
            "Enter Sales($):12000\n",
            "Enter Cost of Goods Sold(%):40\n",
            "Enter Tax Rate(%):30\n",
            "Cost of Goods Sold: $4800.0\n",
            "Gross Profit: $ 7200.0\n",
            "Taxes: $2160.0\n",
            "Net Income: $5040.0\n"
          ]
        }
      ],
      "source": [
        "#Inputs: sales($) and cost of goods pct (%)\n",
        "sales = input('Enter Sales($):')\n",
        "#bc input only casts strings, change to cast as float\n",
        "sales = float(sales)\n",
        "\n",
        "cogs_pct = input('Enter Cost of Goods Sold(%):')\n",
        "#bc input only casts strings, change to cast as float\n",
        "cogs_pct = float (cogs_pct)\n",
        "\n",
        "taxrate = input('Enter Tax Rate(%):')\n",
        "#bc input only casts strings, change to cast as float\n",
        "taxrate = float (taxrate)\n",
        "\n",
        "#Processes: claculate cost of goods sold and gross profit\n",
        "# nake sure to assign each to a variable\n",
        "cogs = sales * (cogs_pct / 100)\n",
        "GrossProfit = sales - cogs\n",
        "taxes = GrossProfit * (taxrate/100)\n",
        "netincome = GrossProfit - taxes\n",
        "\n",
        "#Output: display cost of goods sold and gross profit\n",
        "print(f\"Cost of Goods Sold: ${cogs}\")\n",
        "print(f\"Gross Profit: $ {GrossProfit}\")\n",
        "print(f\"Taxes: ${taxes}\")\n",
        "print(f'Net Income: ${netincome}')\n"
      ]
    },
    {
      "cell_type": "markdown",
      "source": [],
      "metadata": {
        "id": "uDqcO_UBs4c8"
      }
    },
    {
      "cell_type": "code",
      "source": [
        "#Inputs: annual demand, supply, and holding cost\n",
        "demand = input('Enter Demand(units/year):')\n",
        "#bc input only casts strings, change to cast as float\n",
        "demand = int(demand)\n",
        "\n",
        "reordercost = input('Enter Reorder Cost ($/order):')\n",
        "#bc input only casts strings, change to cast as float\n",
        "reordercost = float (reordercost)\n",
        "\n",
        "holdingcost= input('Enter Holding Cost ($/unit/year):')\n",
        "#bc input only casts strings, change to cast as float\n",
        "holdingcost = float (holdingcost)\n",
        "\n",
        "#Processes: claculate cost of goods sold and gross profit\n",
        "# nake sure to assign each to a variable\n",
        "EOQ = ((2 * demand * reordercost) / holdingcost) ** (1/2)\n",
        "\n",
        "#Output: display cost of goods sold and gross profit\n",
        "print(f\"EOQ:{EOQ} units\")\n"
      ],
      "metadata": {
        "colab": {
          "base_uri": "https://localhost:8080/"
        },
        "id": "jP45_Z14s7HR",
        "outputId": "ba744d01-4ebb-4a56-f250-9226e32e0be2"
      },
      "execution_count": null,
      "outputs": [
        {
          "output_type": "stream",
          "name": "stdout",
          "text": [
            "Enter Demand(units/year):1000\n",
            "Enter Reorder Cost ($/order):50\n",
            "Enter Holding Cost ($/unit/year):10\n",
            "EOQ:100.0 units\n"
          ]
        }
      ]
    },
    {
      "cell_type": "code",
      "source": [
        "x = float(input('Enter a number:'))\n",
        "#there needs to be 2 numbers so do it twice\n",
        "#has to be a float because of numerical decimals\n",
        "y = float(input('Enter a second number:'))\n",
        "#now they need to input an operator\n",
        "operator= input('Enter mathematical operator (+,-,*,/,//,**,%):')\n",
        "\n",
        "#now for processing\n",
        "if operator == '+':\n",
        "  res = x + y\n",
        "elif operator == '-':\n",
        "  res = x - y\n",
        "elif operator == '*':\n",
        "  res = x * y\n",
        "elif operator == '/':\n",
        "  res = x / y\n",
        "elif operator == '//':\n",
        "  res = x // y\n",
        "elif operator == '**':\n",
        "  res = x ** y\n",
        "elif operator == '%':\n",
        "  res = x % y\n",
        "else:\n",
        "  res = None\n",
        "  print(\"Invalid\")\n",
        "\n",
        "print(f\"result={res}\")\n",
        "\n",
        "\n"
      ],
      "metadata": {
        "colab": {
          "base_uri": "https://localhost:8080/"
        },
        "id": "Q0mP7P8AqL9x",
        "outputId": "82d414af-1b5d-4bff-deff-e8e67a62a06d"
      },
      "execution_count": null,
      "outputs": [
        {
          "output_type": "stream",
          "name": "stdout",
          "text": [
            "Enter a number:5\n",
            "Enter a second number:3\n",
            "Enter mathematical operator (+,-,*,/,//,**,%):*\n",
            "result=15.0\n"
          ]
        }
      ]
    },
    {
      "cell_type": "code",
      "source": [
        "for num in range (0,11,2):\n",
        "  print(num)\n"
      ],
      "metadata": {
        "colab": {
          "base_uri": "https://localhost:8080/"
        },
        "id": "Ev6DnXWT59x-",
        "outputId": "f84b0401-8704-4e96-a8a3-92ffd64add2a"
      },
      "execution_count": null,
      "outputs": [
        {
          "output_type": "stream",
          "name": "stdout",
          "text": [
            "0\n",
            "2\n",
            "4\n",
            "6\n",
            "8\n",
            "10\n"
          ]
        }
      ]
    },
    {
      "cell_type": "code",
      "source": [
        "#iteration has to be in hours\n",
        "for hour in range (1,9,1):\n",
        "  fee = 5 + 2.50 * (hour)\n",
        "\n",
        "  if fee < 10:\n",
        "    fee = 10.0\n",
        "  elif fee >20:\n",
        "    fee = 20.0\n",
        "\n",
        "  print(hour, fee)\n",
        "\n",
        "\n",
        "\n",
        "\n"
      ],
      "metadata": {
        "colab": {
          "base_uri": "https://localhost:8080/"
        },
        "id": "nQWEuj-q9yHV",
        "outputId": "212b184e-e3db-4e90-a973-a84e0aeec2b3"
      },
      "execution_count": null,
      "outputs": [
        {
          "output_type": "stream",
          "name": "stdout",
          "text": [
            "1 10.0\n",
            "2 10.0\n",
            "3 12.5\n",
            "4 15.0\n",
            "5 17.5\n",
            "6 20.0\n",
            "7 20.0\n",
            "8 20.0\n"
          ]
        }
      ]
    },
    {
      "cell_type": "code",
      "source": [
        "#Movie theater Assignment\n",
        "#iteration has to be in hours\n",
        "print (\"Ad ($) Profit ($)\")\n",
        "for adv in range (0,201,25):\n",
        "  revenue = (20 + 2 * adv ** 0.5)*10\n",
        "  cost = 200 + adv\n",
        "  profit = revenue - cost\n",
        "  print(adv, round(profit,1))\n"
      ],
      "metadata": {
        "colab": {
          "base_uri": "https://localhost:8080/"
        },
        "id": "C4pQRmJ2tjXv",
        "outputId": "f5067435-04ae-4a95-a442-0ce846667b72"
      },
      "execution_count": 12,
      "outputs": [
        {
          "output_type": "stream",
          "name": "stdout",
          "text": [
            "Ad ($) Profit ($)\n",
            "0 0.0\n",
            "25 75.0\n",
            "50 91.4\n",
            "75 98.2\n",
            "100 100.0\n",
            "125 98.6\n",
            "150 94.9\n",
            "175 89.6\n",
            "200 82.8\n"
          ]
        }
      ]
    }
  ]
}